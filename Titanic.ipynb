{
 "cells": [
  {
   "cell_type": "code",
   "execution_count": 1,
   "id": "c1a0ed0d",
   "metadata": {},
   "outputs": [],
   "source": [
    "import pandas as pd\n",
    "import numpy as np\n",
    "import seaborn as sns\n",
    "import matplotlib.pyplot as plt"
   ]
  },
  {
   "cell_type": "code",
   "execution_count": 2,
   "id": "c35b7bf8",
   "metadata": {},
   "outputs": [],
   "source": [
    "import re\n"
   ]
  },
  {
   "cell_type": "code",
   "execution_count": 3,
   "id": "67efdede",
   "metadata": {},
   "outputs": [],
   "source": [
    "df = pd.read_csv('../data/titanic/train.csv')"
   ]
  },
  {
   "cell_type": "code",
   "execution_count": 4,
   "id": "66583ce5",
   "metadata": {},
   "outputs": [
    {
     "data": {
      "text/html": [
       "<div>\n",
       "<style scoped>\n",
       "    .dataframe tbody tr th:only-of-type {\n",
       "        vertical-align: middle;\n",
       "    }\n",
       "\n",
       "    .dataframe tbody tr th {\n",
       "        vertical-align: top;\n",
       "    }\n",
       "\n",
       "    .dataframe thead th {\n",
       "        text-align: right;\n",
       "    }\n",
       "</style>\n",
       "<table border=\"1\" class=\"dataframe\">\n",
       "  <thead>\n",
       "    <tr style=\"text-align: right;\">\n",
       "      <th></th>\n",
       "      <th>PassengerId</th>\n",
       "      <th>Survived</th>\n",
       "      <th>Pclass</th>\n",
       "      <th>Name</th>\n",
       "      <th>Sex</th>\n",
       "      <th>Age</th>\n",
       "      <th>SibSp</th>\n",
       "      <th>Parch</th>\n",
       "      <th>Ticket</th>\n",
       "      <th>Fare</th>\n",
       "      <th>Cabin</th>\n",
       "      <th>Embarked</th>\n",
       "    </tr>\n",
       "  </thead>\n",
       "  <tbody>\n",
       "    <tr>\n",
       "      <th>0</th>\n",
       "      <td>1</td>\n",
       "      <td>0</td>\n",
       "      <td>3</td>\n",
       "      <td>Braund, Mr. Owen Harris</td>\n",
       "      <td>male</td>\n",
       "      <td>22.0</td>\n",
       "      <td>1</td>\n",
       "      <td>0</td>\n",
       "      <td>A/5 21171</td>\n",
       "      <td>7.2500</td>\n",
       "      <td>NaN</td>\n",
       "      <td>S</td>\n",
       "    </tr>\n",
       "    <tr>\n",
       "      <th>1</th>\n",
       "      <td>2</td>\n",
       "      <td>1</td>\n",
       "      <td>1</td>\n",
       "      <td>Cumings, Mrs. John Bradley (Florence Briggs Th...</td>\n",
       "      <td>female</td>\n",
       "      <td>38.0</td>\n",
       "      <td>1</td>\n",
       "      <td>0</td>\n",
       "      <td>PC 17599</td>\n",
       "      <td>71.2833</td>\n",
       "      <td>C85</td>\n",
       "      <td>C</td>\n",
       "    </tr>\n",
       "    <tr>\n",
       "      <th>2</th>\n",
       "      <td>3</td>\n",
       "      <td>1</td>\n",
       "      <td>3</td>\n",
       "      <td>Heikkinen, Miss. Laina</td>\n",
       "      <td>female</td>\n",
       "      <td>26.0</td>\n",
       "      <td>0</td>\n",
       "      <td>0</td>\n",
       "      <td>STON/O2. 3101282</td>\n",
       "      <td>7.9250</td>\n",
       "      <td>NaN</td>\n",
       "      <td>S</td>\n",
       "    </tr>\n",
       "    <tr>\n",
       "      <th>3</th>\n",
       "      <td>4</td>\n",
       "      <td>1</td>\n",
       "      <td>1</td>\n",
       "      <td>Futrelle, Mrs. Jacques Heath (Lily May Peel)</td>\n",
       "      <td>female</td>\n",
       "      <td>35.0</td>\n",
       "      <td>1</td>\n",
       "      <td>0</td>\n",
       "      <td>113803</td>\n",
       "      <td>53.1000</td>\n",
       "      <td>C123</td>\n",
       "      <td>S</td>\n",
       "    </tr>\n",
       "    <tr>\n",
       "      <th>4</th>\n",
       "      <td>5</td>\n",
       "      <td>0</td>\n",
       "      <td>3</td>\n",
       "      <td>Allen, Mr. William Henry</td>\n",
       "      <td>male</td>\n",
       "      <td>35.0</td>\n",
       "      <td>0</td>\n",
       "      <td>0</td>\n",
       "      <td>373450</td>\n",
       "      <td>8.0500</td>\n",
       "      <td>NaN</td>\n",
       "      <td>S</td>\n",
       "    </tr>\n",
       "    <tr>\n",
       "      <th>...</th>\n",
       "      <td>...</td>\n",
       "      <td>...</td>\n",
       "      <td>...</td>\n",
       "      <td>...</td>\n",
       "      <td>...</td>\n",
       "      <td>...</td>\n",
       "      <td>...</td>\n",
       "      <td>...</td>\n",
       "      <td>...</td>\n",
       "      <td>...</td>\n",
       "      <td>...</td>\n",
       "      <td>...</td>\n",
       "    </tr>\n",
       "    <tr>\n",
       "      <th>886</th>\n",
       "      <td>887</td>\n",
       "      <td>0</td>\n",
       "      <td>2</td>\n",
       "      <td>Montvila, Rev. Juozas</td>\n",
       "      <td>male</td>\n",
       "      <td>27.0</td>\n",
       "      <td>0</td>\n",
       "      <td>0</td>\n",
       "      <td>211536</td>\n",
       "      <td>13.0000</td>\n",
       "      <td>NaN</td>\n",
       "      <td>S</td>\n",
       "    </tr>\n",
       "    <tr>\n",
       "      <th>887</th>\n",
       "      <td>888</td>\n",
       "      <td>1</td>\n",
       "      <td>1</td>\n",
       "      <td>Graham, Miss. Margaret Edith</td>\n",
       "      <td>female</td>\n",
       "      <td>19.0</td>\n",
       "      <td>0</td>\n",
       "      <td>0</td>\n",
       "      <td>112053</td>\n",
       "      <td>30.0000</td>\n",
       "      <td>B42</td>\n",
       "      <td>S</td>\n",
       "    </tr>\n",
       "    <tr>\n",
       "      <th>888</th>\n",
       "      <td>889</td>\n",
       "      <td>0</td>\n",
       "      <td>3</td>\n",
       "      <td>Johnston, Miss. Catherine Helen \"Carrie\"</td>\n",
       "      <td>female</td>\n",
       "      <td>NaN</td>\n",
       "      <td>1</td>\n",
       "      <td>2</td>\n",
       "      <td>W./C. 6607</td>\n",
       "      <td>23.4500</td>\n",
       "      <td>NaN</td>\n",
       "      <td>S</td>\n",
       "    </tr>\n",
       "    <tr>\n",
       "      <th>889</th>\n",
       "      <td>890</td>\n",
       "      <td>1</td>\n",
       "      <td>1</td>\n",
       "      <td>Behr, Mr. Karl Howell</td>\n",
       "      <td>male</td>\n",
       "      <td>26.0</td>\n",
       "      <td>0</td>\n",
       "      <td>0</td>\n",
       "      <td>111369</td>\n",
       "      <td>30.0000</td>\n",
       "      <td>C148</td>\n",
       "      <td>C</td>\n",
       "    </tr>\n",
       "    <tr>\n",
       "      <th>890</th>\n",
       "      <td>891</td>\n",
       "      <td>0</td>\n",
       "      <td>3</td>\n",
       "      <td>Dooley, Mr. Patrick</td>\n",
       "      <td>male</td>\n",
       "      <td>32.0</td>\n",
       "      <td>0</td>\n",
       "      <td>0</td>\n",
       "      <td>370376</td>\n",
       "      <td>7.7500</td>\n",
       "      <td>NaN</td>\n",
       "      <td>Q</td>\n",
       "    </tr>\n",
       "  </tbody>\n",
       "</table>\n",
       "<p>891 rows × 12 columns</p>\n",
       "</div>"
      ],
      "text/plain": [
       "     PassengerId  Survived  Pclass  \\\n",
       "0              1         0       3   \n",
       "1              2         1       1   \n",
       "2              3         1       3   \n",
       "3              4         1       1   \n",
       "4              5         0       3   \n",
       "..           ...       ...     ...   \n",
       "886          887         0       2   \n",
       "887          888         1       1   \n",
       "888          889         0       3   \n",
       "889          890         1       1   \n",
       "890          891         0       3   \n",
       "\n",
       "                                                  Name     Sex   Age  SibSp  \\\n",
       "0                              Braund, Mr. Owen Harris    male  22.0      1   \n",
       "1    Cumings, Mrs. John Bradley (Florence Briggs Th...  female  38.0      1   \n",
       "2                               Heikkinen, Miss. Laina  female  26.0      0   \n",
       "3         Futrelle, Mrs. Jacques Heath (Lily May Peel)  female  35.0      1   \n",
       "4                             Allen, Mr. William Henry    male  35.0      0   \n",
       "..                                                 ...     ...   ...    ...   \n",
       "886                              Montvila, Rev. Juozas    male  27.0      0   \n",
       "887                       Graham, Miss. Margaret Edith  female  19.0      0   \n",
       "888           Johnston, Miss. Catherine Helen \"Carrie\"  female   NaN      1   \n",
       "889                              Behr, Mr. Karl Howell    male  26.0      0   \n",
       "890                                Dooley, Mr. Patrick    male  32.0      0   \n",
       "\n",
       "     Parch            Ticket     Fare Cabin Embarked  \n",
       "0        0         A/5 21171   7.2500   NaN        S  \n",
       "1        0          PC 17599  71.2833   C85        C  \n",
       "2        0  STON/O2. 3101282   7.9250   NaN        S  \n",
       "3        0            113803  53.1000  C123        S  \n",
       "4        0            373450   8.0500   NaN        S  \n",
       "..     ...               ...      ...   ...      ...  \n",
       "886      0            211536  13.0000   NaN        S  \n",
       "887      0            112053  30.0000   B42        S  \n",
       "888      2        W./C. 6607  23.4500   NaN        S  \n",
       "889      0            111369  30.0000  C148        C  \n",
       "890      0            370376   7.7500   NaN        Q  \n",
       "\n",
       "[891 rows x 12 columns]"
      ]
     },
     "execution_count": 4,
     "metadata": {},
     "output_type": "execute_result"
    }
   ],
   "source": [
    "df"
   ]
  },
  {
   "cell_type": "code",
   "execution_count": 5,
   "id": "32dfe7e6",
   "metadata": {},
   "outputs": [
    {
     "data": {
      "text/plain": [
       "Index(['PassengerId', 'Survived', 'Pclass', 'Name', 'Sex', 'Age', 'SibSp',\n",
       "       'Parch', 'Ticket', 'Fare', 'Cabin', 'Embarked'],\n",
       "      dtype='object')"
      ]
     },
     "execution_count": 5,
     "metadata": {},
     "output_type": "execute_result"
    }
   ],
   "source": [
    "cols = df.columns\n",
    "cols\n"
   ]
  },
  {
   "cell_type": "code",
   "execution_count": 6,
   "id": "438e4efd",
   "metadata": {},
   "outputs": [
    {
     "data": {
      "text/html": [
       "<div>\n",
       "<style scoped>\n",
       "    .dataframe tbody tr th:only-of-type {\n",
       "        vertical-align: middle;\n",
       "    }\n",
       "\n",
       "    .dataframe tbody tr th {\n",
       "        vertical-align: top;\n",
       "    }\n",
       "\n",
       "    .dataframe thead th {\n",
       "        text-align: right;\n",
       "    }\n",
       "</style>\n",
       "<table border=\"1\" class=\"dataframe\">\n",
       "  <thead>\n",
       "    <tr style=\"text-align: right;\">\n",
       "      <th></th>\n",
       "      <th>PassengerId</th>\n",
       "      <th>Survived</th>\n",
       "      <th>Pclass</th>\n",
       "      <th>Age</th>\n",
       "      <th>SibSp</th>\n",
       "      <th>Parch</th>\n",
       "      <th>Fare</th>\n",
       "    </tr>\n",
       "  </thead>\n",
       "  <tbody>\n",
       "    <tr>\n",
       "      <th>count</th>\n",
       "      <td>891.000000</td>\n",
       "      <td>891.000000</td>\n",
       "      <td>891.000000</td>\n",
       "      <td>714.000000</td>\n",
       "      <td>891.000000</td>\n",
       "      <td>891.000000</td>\n",
       "      <td>891.000000</td>\n",
       "    </tr>\n",
       "    <tr>\n",
       "      <th>mean</th>\n",
       "      <td>446.000000</td>\n",
       "      <td>0.383838</td>\n",
       "      <td>2.308642</td>\n",
       "      <td>29.699118</td>\n",
       "      <td>0.523008</td>\n",
       "      <td>0.381594</td>\n",
       "      <td>32.204208</td>\n",
       "    </tr>\n",
       "    <tr>\n",
       "      <th>std</th>\n",
       "      <td>257.353842</td>\n",
       "      <td>0.486592</td>\n",
       "      <td>0.836071</td>\n",
       "      <td>14.526497</td>\n",
       "      <td>1.102743</td>\n",
       "      <td>0.806057</td>\n",
       "      <td>49.693429</td>\n",
       "    </tr>\n",
       "    <tr>\n",
       "      <th>min</th>\n",
       "      <td>1.000000</td>\n",
       "      <td>0.000000</td>\n",
       "      <td>1.000000</td>\n",
       "      <td>0.420000</td>\n",
       "      <td>0.000000</td>\n",
       "      <td>0.000000</td>\n",
       "      <td>0.000000</td>\n",
       "    </tr>\n",
       "    <tr>\n",
       "      <th>25%</th>\n",
       "      <td>223.500000</td>\n",
       "      <td>0.000000</td>\n",
       "      <td>2.000000</td>\n",
       "      <td>20.125000</td>\n",
       "      <td>0.000000</td>\n",
       "      <td>0.000000</td>\n",
       "      <td>7.910400</td>\n",
       "    </tr>\n",
       "    <tr>\n",
       "      <th>50%</th>\n",
       "      <td>446.000000</td>\n",
       "      <td>0.000000</td>\n",
       "      <td>3.000000</td>\n",
       "      <td>28.000000</td>\n",
       "      <td>0.000000</td>\n",
       "      <td>0.000000</td>\n",
       "      <td>14.454200</td>\n",
       "    </tr>\n",
       "    <tr>\n",
       "      <th>75%</th>\n",
       "      <td>668.500000</td>\n",
       "      <td>1.000000</td>\n",
       "      <td>3.000000</td>\n",
       "      <td>38.000000</td>\n",
       "      <td>1.000000</td>\n",
       "      <td>0.000000</td>\n",
       "      <td>31.000000</td>\n",
       "    </tr>\n",
       "    <tr>\n",
       "      <th>max</th>\n",
       "      <td>891.000000</td>\n",
       "      <td>1.000000</td>\n",
       "      <td>3.000000</td>\n",
       "      <td>80.000000</td>\n",
       "      <td>8.000000</td>\n",
       "      <td>6.000000</td>\n",
       "      <td>512.329200</td>\n",
       "    </tr>\n",
       "  </tbody>\n",
       "</table>\n",
       "</div>"
      ],
      "text/plain": [
       "       PassengerId    Survived      Pclass         Age       SibSp  \\\n",
       "count   891.000000  891.000000  891.000000  714.000000  891.000000   \n",
       "mean    446.000000    0.383838    2.308642   29.699118    0.523008   \n",
       "std     257.353842    0.486592    0.836071   14.526497    1.102743   \n",
       "min       1.000000    0.000000    1.000000    0.420000    0.000000   \n",
       "25%     223.500000    0.000000    2.000000   20.125000    0.000000   \n",
       "50%     446.000000    0.000000    3.000000   28.000000    0.000000   \n",
       "75%     668.500000    1.000000    3.000000   38.000000    1.000000   \n",
       "max     891.000000    1.000000    3.000000   80.000000    8.000000   \n",
       "\n",
       "            Parch        Fare  \n",
       "count  891.000000  891.000000  \n",
       "mean     0.381594   32.204208  \n",
       "std      0.806057   49.693429  \n",
       "min      0.000000    0.000000  \n",
       "25%      0.000000    7.910400  \n",
       "50%      0.000000   14.454200  \n",
       "75%      0.000000   31.000000  \n",
       "max      6.000000  512.329200  "
      ]
     },
     "execution_count": 6,
     "metadata": {},
     "output_type": "execute_result"
    }
   ],
   "source": [
    "df.describe()"
   ]
  },
  {
   "cell_type": "markdown",
   "id": "79d87415",
   "metadata": {},
   "source": [
    "Age is missing a few data entries"
   ]
  },
  {
   "cell_type": "code",
   "execution_count": 7,
   "id": "48ede2d1",
   "metadata": {},
   "outputs": [
    {
     "name": "stdout",
     "output_type": "stream",
     "text": [
      "<class 'pandas.core.frame.DataFrame'>\n",
      "RangeIndex: 891 entries, 0 to 890\n",
      "Data columns (total 12 columns):\n",
      " #   Column       Non-Null Count  Dtype  \n",
      "---  ------       --------------  -----  \n",
      " 0   PassengerId  891 non-null    int64  \n",
      " 1   Survived     891 non-null    int64  \n",
      " 2   Pclass       891 non-null    int64  \n",
      " 3   Name         891 non-null    object \n",
      " 4   Sex          891 non-null    object \n",
      " 5   Age          714 non-null    float64\n",
      " 6   SibSp        891 non-null    int64  \n",
      " 7   Parch        891 non-null    int64  \n",
      " 8   Ticket       891 non-null    object \n",
      " 9   Fare         891 non-null    float64\n",
      " 10  Cabin        204 non-null    object \n",
      " 11  Embarked     889 non-null    object \n",
      "dtypes: float64(2), int64(5), object(5)\n",
      "memory usage: 83.7+ KB\n"
     ]
    }
   ],
   "source": [
    "df.info()"
   ]
  },
  {
   "cell_type": "code",
   "execution_count": 8,
   "id": "44bd81cd",
   "metadata": {
    "scrolled": true
   },
   "outputs": [
    {
     "data": {
      "text/plain": [
       "PassengerId      0\n",
       "Survived         0\n",
       "Pclass           0\n",
       "Name             0\n",
       "Sex              0\n",
       "Age            177\n",
       "SibSp            0\n",
       "Parch            0\n",
       "Ticket           0\n",
       "Fare             0\n",
       "Cabin          687\n",
       "Embarked         2\n",
       "dtype: int64"
      ]
     },
     "execution_count": 8,
     "metadata": {},
     "output_type": "execute_result"
    }
   ],
   "source": [
    "df.isnull().sum()"
   ]
  },
  {
   "cell_type": "markdown",
   "id": "40e0c0e3",
   "metadata": {},
   "source": [
    "### Heatmap of null values"
   ]
  },
  {
   "cell_type": "code",
   "execution_count": 9,
   "id": "c3846ccc",
   "metadata": {
    "scrolled": true
   },
   "outputs": [
    {
     "data": {
      "text/plain": [
       "<AxesSubplot:>"
      ]
     },
     "execution_count": 9,
     "metadata": {},
     "output_type": "execute_result"
    },
    {
     "data": {
      "image/png": "[encoded data removed]",
      "text/plain": [
       "<Figure size 432x288 with 1 Axes>"
      ]
     },
     "metadata": {
      "needs_background": "light"
     },
     "output_type": "display_data"
    }
   ],
   "source": [
    "sns.heatmap(df.isnull(), cmap = 'viridis', cbar=False)"
   ]
  },
  {
   "cell_type": "markdown",
   "id": "aa513db6",
   "metadata": {},
   "source": [
    "## Data Cleaning"
   ]
  },
  {
   "cell_type": "code",
   "execution_count": 10,
   "id": "95c79880",
   "metadata": {},
   "outputs": [],
   "source": [
    "def create_feature_has_cabin(df, colname):\n",
    "    # if NA => 0 else 1\n",
    "    def _is_nan(x):\n",
    "        if isinstance(x, type(np.nan)): #checks if object is NAN \n",
    "            return 0\n",
    "        return 1\n",
    "        \n",
    "    return df[colname].apply(_is_nan)\n"
   ]
  },
  {
   "cell_type": "code",
   "execution_count": 11,
   "id": "1b954cd9",
   "metadata": {},
   "outputs": [],
   "source": [
    "df['HasCabin'] = create_feature_has_cabin(df, 'Cabin')"
   ]
  },
  {
   "cell_type": "code",
   "execution_count": 12,
   "id": "5f20f8a4",
   "metadata": {},
   "outputs": [
    {
     "data": {
      "text/plain": [
       "array(['S', 'C', 'Q', nan], dtype=object)"
      ]
     },
     "execution_count": 12,
     "metadata": {},
     "output_type": "execute_result"
    }
   ],
   "source": [
    "df['Embarked'].unique()"
   ]
  },
  {
   "cell_type": "code",
   "execution_count": 13,
   "id": "384c39ce",
   "metadata": {},
   "outputs": [],
   "source": [
    "def fill_na_embarked(df, colname):\n",
    "    \n",
    "    return df[colname].fillna('S')\n",
    "    \n",
    "df['Embarked'] = fill_na_embarked(df, 'Embarked')\n"
   ]
  },
  {
   "cell_type": "code",
   "execution_count": 14,
   "id": "6e7df61e",
   "metadata": {},
   "outputs": [
    {
     "data": {
      "text/plain": [
       "array(['S', 'C', 'Q'], dtype=object)"
      ]
     },
     "execution_count": 14,
     "metadata": {},
     "output_type": "execute_result"
    }
   ],
   "source": [
    "df['Embarked'].unique()"
   ]
  },
  {
   "cell_type": "markdown",
   "id": "60dabc84",
   "metadata": {},
   "source": [
    "Wokring on missing Age values"
   ]
  },
  {
   "cell_type": "code",
   "execution_count": 15,
   "id": "8b32e732",
   "metadata": {},
   "outputs": [
    {
     "name": "stdout",
     "output_type": "stream",
     "text": [
      "29.69911764705882 14.526497332334044\n"
     ]
    }
   ],
   "source": [
    "mean = df['Age'].mean()\n",
    "sd = df['Age'].std()\n",
    "print(mean,sd)"
   ]
  },
  {
   "cell_type": "code",
   "execution_count": 16,
   "id": "9da1c77f",
   "metadata": {},
   "outputs": [],
   "source": [
    "def fill_na_age(df, colname):\n",
    "    mean = df['Age'].mean()\n",
    "    sd = df['Age'].std()\n",
    "    def fill_empty(x):\n",
    "        if np.isnan(x):\n",
    "            return np.random.randint(mean-sd, mean+sd, ())\n",
    "        return x\n",
    "    return df[colname].apply(fill_empty).astype(int)\n",
    "df['Age'] = fill_na_age(df, 'Age')"
   ]
  },
  {
   "cell_type": "code",
   "execution_count": 17,
   "id": "d7b26406",
   "metadata": {},
   "outputs": [
    {
     "data": {
      "text/plain": [
       "0"
      ]
     },
     "execution_count": 17,
     "metadata": {},
     "output_type": "execute_result"
    }
   ],
   "source": [
    "df['Age'].isna().sum()"
   ]
  },
  {
   "cell_type": "markdown",
   "id": "3de85e6d",
   "metadata": {},
   "source": [
    "## Feature Engineering"
   ]
  },
  {
   "cell_type": "code",
   "execution_count": 18,
   "id": "4caa7e5e",
   "metadata": {},
   "outputs": [],
   "source": [
    "#SibSp => Sibling/Spouse \n",
    "#ParCh => Parent/Child \n",
    "\n",
    "def create_feat_familly_size(df):\n",
    "    return df['SibSp'] + df['Parch'] + 1\n",
    "    \n",
    "df['FamilySize'] = create_feat_familly_size(df)"
   ]
  },
  {
   "cell_type": "code",
   "execution_count": 19,
   "id": "86faae56",
   "metadata": {},
   "outputs": [
    {
     "data": {
      "text/plain": [
       "0    2\n",
       "1    2\n",
       "2    1\n",
       "3    2\n",
       "4    1\n",
       "5    1\n",
       "6    1\n",
       "7    5\n",
       "8    3\n",
       "9    2\n",
       "Name: FamilySize, dtype: int64"
      ]
     },
     "execution_count": 19,
     "metadata": {},
     "output_type": "execute_result"
    }
   ],
   "source": [
    "df['FamilySize'].head(10)"
   ]
  },
  {
   "cell_type": "code",
   "execution_count": 20,
   "id": "73ac1e54",
   "metadata": {},
   "outputs": [],
   "source": [
    "#For passengers travelling alone\n",
    "def create_feat_isalone(df, colname):\n",
    "    def _is_alone(x):\n",
    "        if x==1:\n",
    "            return 1\n",
    "        return 0\n",
    "    \n",
    "    return df[colname].apply(_is_alone)\n",
    "    \n",
    "df['IsAlone'] = create_feat_isalone(df, 'FamilySize')\n"
   ]
  },
  {
   "cell_type": "markdown",
   "id": "cf07b3df",
   "metadata": {},
   "source": [
    "Splitting the fare and age into categories"
   ]
  },
  {
   "cell_type": "code",
   "execution_count": 21,
   "id": "c47d5b5a",
   "metadata": {},
   "outputs": [],
   "source": [
    "def create_feat_categoricalFare(df, colname):\n",
    "    return pd.qcut(df[colname], 4, labels = [0, 1, 2, 3]).astype(int)\n",
    "df['CategoricalFare'] = create_feat_categoricalFare(df, 'Fare')"
   ]
  },
  {
   "cell_type": "code",
   "execution_count": 22,
   "id": "33fdbb5b",
   "metadata": {},
   "outputs": [],
   "source": [
    "def create_feat_categoricalFare(df, colname):\n",
    "    return pd.qcut(df[colname], 4, labels = [0, 1, 2, 3]).astype(int)\n",
    "df['CategoricalFare'] = create_feat_categoricalFare(df, 'Fare')"
   ]
  },
  {
   "cell_type": "markdown",
   "id": "3d544a7b",
   "metadata": {},
   "source": [
    "Categorising name titles (Mr,Miss,Ms etc)"
   ]
  },
  {
   "cell_type": "code",
   "execution_count": 23,
   "id": "ec6790fc",
   "metadata": {},
   "outputs": [],
   "source": [
    "def create_feat_title(df, colname):\n",
    "    def find_title(x):\n",
    "        title_search = re.search(' ([A-Za-z]+)\\.', x)\n",
    "        if title_search:\n",
    "            title = title_search.group(1)\n",
    "            if title in ['Mlle', 'Ms']:\n",
    "                return 'Miss'\n",
    "            elif title in ['Mme', 'Mrs']:\n",
    "                return 'Mrs'\n",
    "            elif title=='Mr':\n",
    "                return 'Mr'           \n",
    "            else:\n",
    "                return 'Rare'\n",
    "        return \"\"\n",
    "    \n",
    "    return_title= df[colname].apply(find_title)\n",
    "    dict_title = {'Miss': 1, 'Mrs':2, 'Mr':3, 'Rare':4}\n",
    "    return return_title.replace(dict_title)\n",
    "df['Title'] = create_feat_title(df, 'Name')"
   ]
  },
  {
   "cell_type": "code",
   "execution_count": 24,
   "id": "8b6aead5",
   "metadata": {},
   "outputs": [],
   "source": [
    "def create_feat_sex(df, colname):\n",
    "    def sex(x):\n",
    "        if x=='male':\n",
    "            return 1\n",
    "        return 0\n",
    "    \n",
    "    return df[colname].apply(sex)\n",
    "    \n",
    "#df['SexNumerical'] = create_feat_sex(df, 'Sex')\n",
    "df = pd.get_dummies(df,columns= ['Sex'])\n",
    "df['Embarked'] = df.Embarked.replace({'S': 0, 'C' : 1, 'Q' : 2})\n"
   ]
  },
  {
   "cell_type": "code",
   "execution_count": 25,
   "id": "3c0de1d9",
   "metadata": {},
   "outputs": [
    {
     "data": {
      "text/plain": [
       "PassengerId          0\n",
       "Survived             0\n",
       "Pclass               0\n",
       "Name                 0\n",
       "Age                  0\n",
       "SibSp                0\n",
       "Parch                0\n",
       "Ticket               0\n",
       "Fare                 0\n",
       "Cabin              687\n",
       "Embarked             0\n",
       "HasCabin             0\n",
       "FamilySize           0\n",
       "IsAlone              0\n",
       "CategoricalFare      0\n",
       "Title                0\n",
       "Sex_female           0\n",
       "Sex_male             0\n",
       "dtype: int64"
      ]
     },
     "execution_count": 25,
     "metadata": {},
     "output_type": "execute_result"
    }
   ],
   "source": [
    "df.isna().sum()\n"
   ]
  },
  {
   "cell_type": "code",
   "execution_count": 26,
   "id": "6656711c",
   "metadata": {},
   "outputs": [],
   "source": [
    "drop_list = ['PassengerId', 'Cabin', 'Ticket', 'SibSp', 'Name']\n",
    "titanic = df.drop(drop_list, axis=1)\n"
   ]
  },
  {
   "cell_type": "markdown",
   "id": "1544ffb3",
   "metadata": {},
   "source": [
    "correlation study"
   ]
  },
  {
   "cell_type": "code",
   "execution_count": 27,
   "id": "6756baa7",
   "metadata": {},
   "outputs": [
    {
     "data": {
      "text/html": [
       "<div>\n",
       "<style scoped>\n",
       "    .dataframe tbody tr th:only-of-type {\n",
       "        vertical-align: middle;\n",
       "    }\n",
       "\n",
       "    .dataframe tbody tr th {\n",
       "        vertical-align: top;\n",
       "    }\n",
       "\n",
       "    .dataframe thead th {\n",
       "        text-align: right;\n",
       "    }\n",
       "</style>\n",
       "<table border=\"1\" class=\"dataframe\">\n",
       "  <thead>\n",
       "    <tr style=\"text-align: right;\">\n",
       "      <th></th>\n",
       "      <th>Survived</th>\n",
       "      <th>Pclass</th>\n",
       "      <th>Age</th>\n",
       "      <th>Parch</th>\n",
       "      <th>Fare</th>\n",
       "      <th>Embarked</th>\n",
       "      <th>HasCabin</th>\n",
       "      <th>FamilySize</th>\n",
       "      <th>IsAlone</th>\n",
       "      <th>CategoricalFare</th>\n",
       "      <th>Title</th>\n",
       "      <th>Sex_female</th>\n",
       "      <th>Sex_male</th>\n",
       "    </tr>\n",
       "  </thead>\n",
       "  <tbody>\n",
       "    <tr>\n",
       "      <th>Survived</th>\n",
       "      <td>1.000000</td>\n",
       "      <td>-0.338481</td>\n",
       "      <td>-0.070472</td>\n",
       "      <td>0.081629</td>\n",
       "      <td>0.257307</td>\n",
       "      <td>0.106811</td>\n",
       "      <td>0.316912</td>\n",
       "      <td>0.016639</td>\n",
       "      <td>-0.203367</td>\n",
       "      <td>0.299357</td>\n",
       "      <td>0.030949</td>\n",
       "      <td>0.543351</td>\n",
       "      <td>-0.543351</td>\n",
       "    </tr>\n",
       "    <tr>\n",
       "      <th>Pclass</th>\n",
       "      <td>-0.338481</td>\n",
       "      <td>1.000000</td>\n",
       "      <td>-0.308973</td>\n",
       "      <td>0.018443</td>\n",
       "      <td>-0.549500</td>\n",
       "      <td>0.045702</td>\n",
       "      <td>-0.725541</td>\n",
       "      <td>0.065997</td>\n",
       "      <td>0.135207</td>\n",
       "      <td>-0.634271</td>\n",
       "      <td>0.075428</td>\n",
       "      <td>-0.131900</td>\n",
       "      <td>0.131900</td>\n",
       "    </tr>\n",
       "    <tr>\n",
       "      <th>Age</th>\n",
       "      <td>-0.070472</td>\n",
       "      <td>-0.308973</td>\n",
       "      <td>1.000000</td>\n",
       "      <td>-0.172351</td>\n",
       "      <td>0.085758</td>\n",
       "      <td>0.015929</td>\n",
       "      <td>0.220227</td>\n",
       "      <td>-0.239084</td>\n",
       "      <td>0.174353</td>\n",
       "      <td>0.059991</td>\n",
       "      <td>-0.319090</td>\n",
       "      <td>-0.087776</td>\n",
       "      <td>0.087776</td>\n",
       "    </tr>\n",
       "    <tr>\n",
       "      <th>Parch</th>\n",
       "      <td>0.081629</td>\n",
       "      <td>0.018443</td>\n",
       "      <td>-0.172351</td>\n",
       "      <td>1.000000</td>\n",
       "      <td>0.216225</td>\n",
       "      <td>-0.078665</td>\n",
       "      <td>0.036987</td>\n",
       "      <td>0.783111</td>\n",
       "      <td>-0.583398</td>\n",
       "      <td>0.393881</td>\n",
       "      <td>0.021398</td>\n",
       "      <td>0.245489</td>\n",
       "      <td>-0.245489</td>\n",
       "    </tr>\n",
       "    <tr>\n",
       "      <th>Fare</th>\n",
       "      <td>0.257307</td>\n",
       "      <td>-0.549500</td>\n",
       "      <td>0.085758</td>\n",
       "      <td>0.216225</td>\n",
       "      <td>1.000000</td>\n",
       "      <td>0.062142</td>\n",
       "      <td>0.482075</td>\n",
       "      <td>0.217138</td>\n",
       "      <td>-0.271832</td>\n",
       "      <td>0.579345</td>\n",
       "      <td>0.021076</td>\n",
       "      <td>0.182333</td>\n",
       "      <td>-0.182333</td>\n",
       "    </tr>\n",
       "    <tr>\n",
       "      <th>Embarked</th>\n",
       "      <td>0.106811</td>\n",
       "      <td>0.045702</td>\n",
       "      <td>0.015929</td>\n",
       "      <td>-0.078665</td>\n",
       "      <td>0.062142</td>\n",
       "      <td>1.000000</td>\n",
       "      <td>0.013774</td>\n",
       "      <td>-0.080281</td>\n",
       "      <td>0.017807</td>\n",
       "      <td>-0.098161</td>\n",
       "      <td>0.121285</td>\n",
       "      <td>0.116569</td>\n",
       "      <td>-0.116569</td>\n",
       "    </tr>\n",
       "    <tr>\n",
       "      <th>HasCabin</th>\n",
       "      <td>0.316912</td>\n",
       "      <td>-0.725541</td>\n",
       "      <td>0.220227</td>\n",
       "      <td>0.036987</td>\n",
       "      <td>0.482075</td>\n",
       "      <td>0.013774</td>\n",
       "      <td>1.000000</td>\n",
       "      <td>-0.009175</td>\n",
       "      <td>-0.158029</td>\n",
       "      <td>0.500936</td>\n",
       "      <td>-0.045148</td>\n",
       "      <td>0.140391</td>\n",
       "      <td>-0.140391</td>\n",
       "    </tr>\n",
       "    <tr>\n",
       "      <th>FamilySize</th>\n",
       "      <td>0.016639</td>\n",
       "      <td>0.065997</td>\n",
       "      <td>-0.239084</td>\n",
       "      <td>0.783111</td>\n",
       "      <td>0.217138</td>\n",
       "      <td>-0.080281</td>\n",
       "      <td>-0.009175</td>\n",
       "      <td>1.000000</td>\n",
       "      <td>-0.690922</td>\n",
       "      <td>0.465396</td>\n",
       "      <td>0.101470</td>\n",
       "      <td>0.200988</td>\n",
       "      <td>-0.200988</td>\n",
       "    </tr>\n",
       "    <tr>\n",
       "      <th>IsAlone</th>\n",
       "      <td>-0.203367</td>\n",
       "      <td>0.135207</td>\n",
       "      <td>0.174353</td>\n",
       "      <td>-0.583398</td>\n",
       "      <td>-0.271832</td>\n",
       "      <td>0.017807</td>\n",
       "      <td>-0.158029</td>\n",
       "      <td>-0.690922</td>\n",
       "      <td>1.000000</td>\n",
       "      <td>-0.560279</td>\n",
       "      <td>0.074505</td>\n",
       "      <td>-0.303646</td>\n",
       "      <td>0.303646</td>\n",
       "    </tr>\n",
       "    <tr>\n",
       "      <th>CategoricalFare</th>\n",
       "      <td>0.299357</td>\n",
       "      <td>-0.634271</td>\n",
       "      <td>0.059991</td>\n",
       "      <td>0.393881</td>\n",
       "      <td>0.579345</td>\n",
       "      <td>-0.098161</td>\n",
       "      <td>0.500936</td>\n",
       "      <td>0.465396</td>\n",
       "      <td>-0.560279</td>\n",
       "      <td>1.000000</td>\n",
       "      <td>-0.045563</td>\n",
       "      <td>0.243613</td>\n",
       "      <td>-0.243613</td>\n",
       "    </tr>\n",
       "    <tr>\n",
       "      <th>Title</th>\n",
       "      <td>0.030949</td>\n",
       "      <td>0.075428</td>\n",
       "      <td>-0.319090</td>\n",
       "      <td>0.021398</td>\n",
       "      <td>0.021076</td>\n",
       "      <td>0.121285</td>\n",
       "      <td>-0.045148</td>\n",
       "      <td>0.101470</td>\n",
       "      <td>0.074505</td>\n",
       "      <td>-0.045563</td>\n",
       "      <td>1.000000</td>\n",
       "      <td>0.048128</td>\n",
       "      <td>-0.048128</td>\n",
       "    </tr>\n",
       "    <tr>\n",
       "      <th>Sex_female</th>\n",
       "      <td>0.543351</td>\n",
       "      <td>-0.131900</td>\n",
       "      <td>-0.087776</td>\n",
       "      <td>0.245489</td>\n",
       "      <td>0.182333</td>\n",
       "      <td>0.116569</td>\n",
       "      <td>0.140391</td>\n",
       "      <td>0.200988</td>\n",
       "      <td>-0.303646</td>\n",
       "      <td>0.243613</td>\n",
       "      <td>0.048128</td>\n",
       "      <td>1.000000</td>\n",
       "      <td>-1.000000</td>\n",
       "    </tr>\n",
       "    <tr>\n",
       "      <th>Sex_male</th>\n",
       "      <td>-0.543351</td>\n",
       "      <td>0.131900</td>\n",
       "      <td>0.087776</td>\n",
       "      <td>-0.245489</td>\n",
       "      <td>-0.182333</td>\n",
       "      <td>-0.116569</td>\n",
       "      <td>-0.140391</td>\n",
       "      <td>-0.200988</td>\n",
       "      <td>0.303646</td>\n",
       "      <td>-0.243613</td>\n",
       "      <td>-0.048128</td>\n",
       "      <td>-1.000000</td>\n",
       "      <td>1.000000</td>\n",
       "    </tr>\n",
       "  </tbody>\n",
       "</table>\n",
       "</div>"
      ],
      "text/plain": [
       "                 Survived    Pclass       Age     Parch      Fare  Embarked  \\\n",
       "Survived         1.000000 -0.338481 -0.070472  0.081629  0.257307  0.106811   \n",
       "Pclass          -0.338481  1.000000 -0.308973  0.018443 -0.549500  0.045702   \n",
       "Age             -0.070472 -0.308973  1.000000 -0.172351  0.085758  0.015929   \n",
       "Parch            0.081629  0.018443 -0.172351  1.000000  0.216225 -0.078665   \n",
       "Fare             0.257307 -0.549500  0.085758  0.216225  1.000000  0.062142   \n",
       "Embarked         0.106811  0.045702  0.015929 -0.078665  0.062142  1.000000   \n",
       "HasCabin         0.316912 -0.725541  0.220227  0.036987  0.482075  0.013774   \n",
       "FamilySize       0.016639  0.065997 -0.239084  0.783111  0.217138 -0.080281   \n",
       "IsAlone         -0.203367  0.135207  0.174353 -0.583398 -0.271832  0.017807   \n",
       "CategoricalFare  0.299357 -0.634271  0.059991  0.393881  0.579345 -0.098161   \n",
       "Title            0.030949  0.075428 -0.319090  0.021398  0.021076  0.121285   \n",
       "Sex_female       0.543351 -0.131900 -0.087776  0.245489  0.182333  0.116569   \n",
       "Sex_male        -0.543351  0.131900  0.087776 -0.245489 -0.182333 -0.116569   \n",
       "\n",
       "                 HasCabin  FamilySize   IsAlone  CategoricalFare     Title  \\\n",
       "Survived         0.316912    0.016639 -0.203367         0.299357  0.030949   \n",
       "Pclass          -0.725541    0.065997  0.135207        -0.634271  0.075428   \n",
       "Age              0.220227   -0.239084  0.174353         0.059991 -0.319090   \n",
       "Parch            0.036987    0.783111 -0.583398         0.393881  0.021398   \n",
       "Fare             0.482075    0.217138 -0.271832         0.579345  0.021076   \n",
       "Embarked         0.013774   -0.080281  0.017807        -0.098161  0.121285   \n",
       "HasCabin         1.000000   -0.009175 -0.158029         0.500936 -0.045148   \n",
       "FamilySize      -0.009175    1.000000 -0.690922         0.465396  0.101470   \n",
       "IsAlone         -0.158029   -0.690922  1.000000        -0.560279  0.074505   \n",
       "CategoricalFare  0.500936    0.465396 -0.560279         1.000000 -0.045563   \n",
       "Title           -0.045148    0.101470  0.074505        -0.045563  1.000000   \n",
       "Sex_female       0.140391    0.200988 -0.303646         0.243613  0.048128   \n",
       "Sex_male        -0.140391   -0.200988  0.303646        -0.243613 -0.048128   \n",
       "\n",
       "                 Sex_female  Sex_male  \n",
       "Survived           0.543351 -0.543351  \n",
       "Pclass            -0.131900  0.131900  \n",
       "Age               -0.087776  0.087776  \n",
       "Parch              0.245489 -0.245489  \n",
       "Fare               0.182333 -0.182333  \n",
       "Embarked           0.116569 -0.116569  \n",
       "HasCabin           0.140391 -0.140391  \n",
       "FamilySize         0.200988 -0.200988  \n",
       "IsAlone           -0.303646  0.303646  \n",
       "CategoricalFare    0.243613 -0.243613  \n",
       "Title              0.048128 -0.048128  \n",
       "Sex_female         1.000000 -1.000000  \n",
       "Sex_male          -1.000000  1.000000  "
      ]
     },
     "execution_count": 27,
     "metadata": {},
     "output_type": "execute_result"
    }
   ],
   "source": [
    "corrmat = titanic.corr()\n",
    "corrmat\n"
   ]
  },
  {
   "cell_type": "code",
   "execution_count": 28,
   "id": "74374098",
   "metadata": {},
   "outputs": [
    {
     "data": {
      "text/plain": [
       "<AxesSubplot:>"
      ]
     },
     "execution_count": 28,
     "metadata": {},
     "output_type": "execute_result"
    },
    {
     "data": {
      "image/png": "[encoded data removed]",
      "text/plain": [
       "<Figure size 1008x720 with 2 Axes>"
      ]
     },
     "metadata": {
      "needs_background": "light"
     },
     "output_type": "display_data"
    }
   ],
   "source": [
    "plt.figure(figsize=(14,10))\n",
    "sns.heatmap(titanic.corr(), cmap=\"rocket\", annot=True, linewidths=0.2)"
   ]
  },
  {
   "cell_type": "markdown",
   "id": "dc130b7c",
   "metadata": {},
   "source": [
    "### Univariate Analysis"
   ]
  },
  {
   "cell_type": "code",
   "execution_count": 29,
   "id": "2a8d49a4",
   "metadata": {},
   "outputs": [
    {
     "data": {
      "text/plain": [
       "0    549\n",
       "1    342\n",
       "Name: Survived, dtype: int64"
      ]
     },
     "execution_count": 29,
     "metadata": {},
     "output_type": "execute_result"
    }
   ],
   "source": [
    "titanic['Survived'].value_counts()\n"
   ]
  },
  {
   "cell_type": "code",
   "execution_count": 30,
   "id": "9bb90936",
   "metadata": {},
   "outputs": [
    {
     "name": "stderr",
     "output_type": "stream",
     "text": [
      "C:\\Users\\Dell\\anaconda3\\lib\\site-packages\\seaborn\\_decorators.py:36: FutureWarning: Pass the following variable as a keyword arg: x. From version 0.12, the only valid positional argument will be `data`, and passing other arguments without an explicit keyword will result in an error or misinterpretation.\n",
      "  warnings.warn(\n"
     ]
    },
    {
     "data": {
      "image/png": "[encoded data removed]",
      "text/plain": [
       "<Figure size 432x288 with 1 Axes>"
      ]
     },
     "metadata": {
      "needs_background": "light"
     },
     "output_type": "display_data"
    }
   ],
   "source": [
    "sns.countplot('Survived', data=titanic)\n",
    "plt.title(\"Titanic Survived\")\n",
    "plt.show()"
   ]
  },
  {
   "cell_type": "code",
   "execution_count": 31,
   "id": "b8167b80",
   "metadata": {},
   "outputs": [
    {
     "data": {
      "text/plain": [
       "<AxesSubplot:ylabel='Survived'>"
      ]
     },
     "execution_count": 31,
     "metadata": {},
     "output_type": "execute_result"
    },
    {
     "data": {
      "image/png": "[encoded data removed]",
      "text/plain": [
       "<Figure size 432x288 with 1 Axes>"
      ]
     },
     "metadata": {},
     "output_type": "display_data"
    }
   ],
   "source": [
    "explode = [0, 0.05]\n",
    "titanic['Survived'].value_counts().plot.pie(autopct = '%1.2f%%', explode=explode)\n"
   ]
  },
  {
   "cell_type": "markdown",
   "id": "79a1dbd2",
   "metadata": {},
   "source": [
    "## Bivariate Analysis"
   ]
  },
  {
   "cell_type": "code",
   "execution_count": 32,
   "id": "75e46099",
   "metadata": {},
   "outputs": [
    {
     "data": {
      "text/plain": [
       "3    491\n",
       "1    216\n",
       "2    184\n",
       "Name: Pclass, dtype: int64"
      ]
     },
     "execution_count": 32,
     "metadata": {},
     "output_type": "execute_result"
    }
   ],
   "source": [
    "titanic['Pclass'].value_counts()\n"
   ]
  },
  {
   "cell_type": "code",
   "execution_count": 33,
   "id": "5eee339c",
   "metadata": {},
   "outputs": [
    {
     "data": {
      "text/plain": [
       "Pclass  Survived\n",
       "1       0            80\n",
       "        1           136\n",
       "2       0            97\n",
       "        1            87\n",
       "3       0           372\n",
       "        1           119\n",
       "Name: Survived, dtype: int64"
      ]
     },
     "execution_count": 33,
     "metadata": {},
     "output_type": "execute_result"
    }
   ],
   "source": [
    "titanic.groupby(['Pclass', 'Survived'])['Survived'].count()\n"
   ]
  },
  {
   "cell_type": "code",
   "execution_count": 34,
   "id": "a161b423",
   "metadata": {},
   "outputs": [
    {
     "data": {
      "text/plain": [
       "<seaborn.axisgrid.FacetGrid at 0x177d3b18be0>"
      ]
     },
     "execution_count": 34,
     "metadata": {},
     "output_type": "execute_result"
    },
    {
     "data": {
      "image/png": "[encoded data removed]",
      "text/plain": [
       "<Figure size 360x360 with 1 Axes>"
      ]
     },
     "metadata": {
      "needs_background": "light"
     },
     "output_type": "display_data"
    }
   ],
   "source": [
    "sns.catplot(x='Pclass', y='Survived', data=titanic, kind='point')\n"
   ]
  },
  {
   "cell_type": "code",
   "execution_count": 37,
   "id": "0004352f",
   "metadata": {},
   "outputs": [
    {
     "data": {
      "text/plain": [
       "<seaborn.axisgrid.FacetGrid at 0x177d39ccf40>"
      ]
     },
     "execution_count": 37,
     "metadata": {},
     "output_type": "execute_result"
    },
    {
     "data": {
      "image/png": "[encoded data removed]",
      "text/plain": [
       "<Figure size 360x360 with 1 Axes>"
      ]
     },
     "metadata": {
      "needs_background": "light"
     },
     "output_type": "display_data"
    }
   ],
   "source": [
    "sns.catplot(x='Sex_male', y='Fare', data=titanic, kind='boxen')\n"
   ]
  },
  {
   "cell_type": "markdown",
   "id": "01a567e8",
   "metadata": {},
   "source": [
    "## MultiVariate Analysis"
   ]
  },
  {
   "cell_type": "code",
   "execution_count": 38,
   "id": "21c95efc",
   "metadata": {},
   "outputs": [
    {
     "data": {
      "text/plain": [
       "<seaborn.axisgrid.FacetGrid at 0x177d4274f70>"
      ]
     },
     "execution_count": 38,
     "metadata": {},
     "output_type": "execute_result"
    },
    {
     "data": {
      "image/png": "[encoded data removed]",
      "text/plain": [
       "<Figure size 360x360 with 1 Axes>"
      ]
     },
     "metadata": {
      "needs_background": "light"
     },
     "output_type": "display_data"
    }
   ],
   "source": [
    "sns.catplot(x='Sex_male', y='Age', data=titanic)\n"
   ]
  },
  {
   "cell_type": "code",
   "execution_count": 39,
   "id": "57d2f691",
   "metadata": {},
   "outputs": [
    {
     "data": {
      "text/plain": [
       "<seaborn.axisgrid.FacetGrid at 0x177d3c14c40>"
      ]
     },
     "execution_count": 39,
     "metadata": {},
     "output_type": "execute_result"
    },
    {
     "data": {
      "image/png": "[encoded data removed]",
      "text/plain": [
       "<Figure size 402.375x360 with 1 Axes>"
      ]
     },
     "metadata": {
      "needs_background": "light"
     },
     "output_type": "display_data"
    }
   ],
   "source": [
    "sns.catplot(x='Sex_male', y='Age', data=titanic, kind='box', hue='Pclass')\n"
   ]
  },
  {
   "cell_type": "code",
   "execution_count": 41,
   "id": "f3e0c9ab",
   "metadata": {},
   "outputs": [
    {
     "data": {
      "text/plain": [
       "<seaborn.axisgrid.FacetGrid at 0x177d435dbb0>"
      ]
     },
     "execution_count": 41,
     "metadata": {},
     "output_type": "execute_result"
    },
    {
     "data": {
      "image/png": "[encoded data removed]",
      "text/plain": [
       "<Figure size 415.875x360 with 1 Axes>"
      ]
     },
     "metadata": {
      "needs_background": "light"
     },
     "output_type": "display_data"
    }
   ],
   "source": [
    "sns.catplot(x='Pclass', y='Age', data=titanic, kind='violin', hue='Sex_male')\n"
   ]
  },
  {
   "cell_type": "code",
   "execution_count": 42,
   "id": "2ee284cd",
   "metadata": {},
   "outputs": [
    {
     "data": {
      "text/plain": [
       "<seaborn.axisgrid.JointGrid at 0x177d43da580>"
      ]
     },
     "execution_count": 42,
     "metadata": {},
     "output_type": "execute_result"
    },
    {
     "data": {
      "image/png": "[encoded data removed]",
      "text/plain": [
       "<Figure size 432x432 with 3 Axes>"
      ]
     },
     "metadata": {
      "needs_background": "light"
     },
     "output_type": "display_data"
    }
   ],
   "source": [
    "sns.jointplot(x='Age', y='Fare', data=titanic, kind='hex')\n"
   ]
  },
  {
   "cell_type": "code",
   "execution_count": 43,
   "id": "0ee89029",
   "metadata": {},
   "outputs": [
    {
     "data": {
      "text/plain": [
       "<seaborn.axisgrid.FacetGrid at 0x177d430e0a0>"
      ]
     },
     "execution_count": 43,
     "metadata": {},
     "output_type": "execute_result"
    },
    {
     "data": {
      "image/png": "[encoded data removed]",
      "text/plain": [
       "<Figure size 1080x720 with 6 Axes>"
      ]
     },
     "metadata": {
      "needs_background": "light"
     },
     "output_type": "display_data"
    }
   ],
   "source": [
    "sns.relplot(x='Age', y='Fare', data=titanic, row='Sex_male', col='Pclass')\n"
   ]
  },
  {
   "cell_type": "code",
   "execution_count": 44,
   "id": "b9031f4f",
   "metadata": {},
   "outputs": [],
   "source": [
    "import pandas as pd\n",
    "from sklearn.model_selection import cross_val_score\n",
    "from sklearn.ensemble import (RandomForestClassifier, AdaBoostClassifier, GradientBoostingClassifier, ExtraTreesClassifier)"
   ]
  },
  {
   "cell_type": "code",
   "execution_count": 45,
   "id": "bfce0f71",
   "metadata": {},
   "outputs": [],
   "source": [
    "target = 'Survived'\n",
    "features = [ col for col in titanic.columns if col != target ]\n",
    "X, y = titanic[features], titanic[target]\n"
   ]
  },
  {
   "cell_type": "code",
   "execution_count": null,
   "id": "5659afd3",
   "metadata": {},
   "outputs": [],
   "source": [
    "#X = pd.get_dummies(X,'sex')"
   ]
  },
  {
   "cell_type": "code",
   "execution_count": 46,
   "id": "6ae90a48",
   "metadata": {},
   "outputs": [
    {
     "data": {
      "text/html": [
       "<div>\n",
       "<style scoped>\n",
       "    .dataframe tbody tr th:only-of-type {\n",
       "        vertical-align: middle;\n",
       "    }\n",
       "\n",
       "    .dataframe tbody tr th {\n",
       "        vertical-align: top;\n",
       "    }\n",
       "\n",
       "    .dataframe thead th {\n",
       "        text-align: right;\n",
       "    }\n",
       "</style>\n",
       "<table border=\"1\" class=\"dataframe\">\n",
       "  <thead>\n",
       "    <tr style=\"text-align: right;\">\n",
       "      <th></th>\n",
       "      <th>Pclass</th>\n",
       "      <th>Age</th>\n",
       "      <th>Parch</th>\n",
       "      <th>Fare</th>\n",
       "      <th>Embarked</th>\n",
       "      <th>HasCabin</th>\n",
       "      <th>FamilySize</th>\n",
       "      <th>IsAlone</th>\n",
       "      <th>CategoricalFare</th>\n",
       "      <th>Title</th>\n",
       "      <th>Sex_female</th>\n",
       "      <th>Sex_male</th>\n",
       "    </tr>\n",
       "  </thead>\n",
       "  <tbody>\n",
       "    <tr>\n",
       "      <th>0</th>\n",
       "      <td>3</td>\n",
       "      <td>22</td>\n",
       "      <td>0</td>\n",
       "      <td>7.2500</td>\n",
       "      <td>0</td>\n",
       "      <td>0</td>\n",
       "      <td>2</td>\n",
       "      <td>0</td>\n",
       "      <td>0</td>\n",
       "      <td>3</td>\n",
       "      <td>0</td>\n",
       "      <td>1</td>\n",
       "    </tr>\n",
       "    <tr>\n",
       "      <th>1</th>\n",
       "      <td>1</td>\n",
       "      <td>38</td>\n",
       "      <td>0</td>\n",
       "      <td>71.2833</td>\n",
       "      <td>1</td>\n",
       "      <td>1</td>\n",
       "      <td>2</td>\n",
       "      <td>0</td>\n",
       "      <td>3</td>\n",
       "      <td>2</td>\n",
       "      <td>1</td>\n",
       "      <td>0</td>\n",
       "    </tr>\n",
       "    <tr>\n",
       "      <th>2</th>\n",
       "      <td>3</td>\n",
       "      <td>26</td>\n",
       "      <td>0</td>\n",
       "      <td>7.9250</td>\n",
       "      <td>0</td>\n",
       "      <td>0</td>\n",
       "      <td>1</td>\n",
       "      <td>1</td>\n",
       "      <td>1</td>\n",
       "      <td>4</td>\n",
       "      <td>1</td>\n",
       "      <td>0</td>\n",
       "    </tr>\n",
       "    <tr>\n",
       "      <th>3</th>\n",
       "      <td>1</td>\n",
       "      <td>35</td>\n",
       "      <td>0</td>\n",
       "      <td>53.1000</td>\n",
       "      <td>0</td>\n",
       "      <td>1</td>\n",
       "      <td>2</td>\n",
       "      <td>0</td>\n",
       "      <td>3</td>\n",
       "      <td>2</td>\n",
       "      <td>1</td>\n",
       "      <td>0</td>\n",
       "    </tr>\n",
       "    <tr>\n",
       "      <th>4</th>\n",
       "      <td>3</td>\n",
       "      <td>35</td>\n",
       "      <td>0</td>\n",
       "      <td>8.0500</td>\n",
       "      <td>0</td>\n",
       "      <td>0</td>\n",
       "      <td>1</td>\n",
       "      <td>1</td>\n",
       "      <td>1</td>\n",
       "      <td>3</td>\n",
       "      <td>0</td>\n",
       "      <td>1</td>\n",
       "    </tr>\n",
       "    <tr>\n",
       "      <th>...</th>\n",
       "      <td>...</td>\n",
       "      <td>...</td>\n",
       "      <td>...</td>\n",
       "      <td>...</td>\n",
       "      <td>...</td>\n",
       "      <td>...</td>\n",
       "      <td>...</td>\n",
       "      <td>...</td>\n",
       "      <td>...</td>\n",
       "      <td>...</td>\n",
       "      <td>...</td>\n",
       "      <td>...</td>\n",
       "    </tr>\n",
       "    <tr>\n",
       "      <th>886</th>\n",
       "      <td>2</td>\n",
       "      <td>27</td>\n",
       "      <td>0</td>\n",
       "      <td>13.0000</td>\n",
       "      <td>0</td>\n",
       "      <td>0</td>\n",
       "      <td>1</td>\n",
       "      <td>1</td>\n",
       "      <td>1</td>\n",
       "      <td>4</td>\n",
       "      <td>0</td>\n",
       "      <td>1</td>\n",
       "    </tr>\n",
       "    <tr>\n",
       "      <th>887</th>\n",
       "      <td>1</td>\n",
       "      <td>19</td>\n",
       "      <td>0</td>\n",
       "      <td>30.0000</td>\n",
       "      <td>0</td>\n",
       "      <td>1</td>\n",
       "      <td>1</td>\n",
       "      <td>1</td>\n",
       "      <td>2</td>\n",
       "      <td>4</td>\n",
       "      <td>1</td>\n",
       "      <td>0</td>\n",
       "    </tr>\n",
       "    <tr>\n",
       "      <th>888</th>\n",
       "      <td>3</td>\n",
       "      <td>19</td>\n",
       "      <td>2</td>\n",
       "      <td>23.4500</td>\n",
       "      <td>0</td>\n",
       "      <td>0</td>\n",
       "      <td>4</td>\n",
       "      <td>0</td>\n",
       "      <td>2</td>\n",
       "      <td>4</td>\n",
       "      <td>1</td>\n",
       "      <td>0</td>\n",
       "    </tr>\n",
       "    <tr>\n",
       "      <th>889</th>\n",
       "      <td>1</td>\n",
       "      <td>26</td>\n",
       "      <td>0</td>\n",
       "      <td>30.0000</td>\n",
       "      <td>1</td>\n",
       "      <td>1</td>\n",
       "      <td>1</td>\n",
       "      <td>1</td>\n",
       "      <td>2</td>\n",
       "      <td>3</td>\n",
       "      <td>0</td>\n",
       "      <td>1</td>\n",
       "    </tr>\n",
       "    <tr>\n",
       "      <th>890</th>\n",
       "      <td>3</td>\n",
       "      <td>32</td>\n",
       "      <td>0</td>\n",
       "      <td>7.7500</td>\n",
       "      <td>2</td>\n",
       "      <td>0</td>\n",
       "      <td>1</td>\n",
       "      <td>1</td>\n",
       "      <td>0</td>\n",
       "      <td>3</td>\n",
       "      <td>0</td>\n",
       "      <td>1</td>\n",
       "    </tr>\n",
       "  </tbody>\n",
       "</table>\n",
       "<p>891 rows × 12 columns</p>\n",
       "</div>"
      ],
      "text/plain": [
       "     Pclass  Age  Parch     Fare  Embarked  HasCabin  FamilySize  IsAlone  \\\n",
       "0         3   22      0   7.2500         0         0           2        0   \n",
       "1         1   38      0  71.2833         1         1           2        0   \n",
       "2         3   26      0   7.9250         0         0           1        1   \n",
       "3         1   35      0  53.1000         0         1           2        0   \n",
       "4         3   35      0   8.0500         0         0           1        1   \n",
       "..      ...  ...    ...      ...       ...       ...         ...      ...   \n",
       "886       2   27      0  13.0000         0         0           1        1   \n",
       "887       1   19      0  30.0000         0         1           1        1   \n",
       "888       3   19      2  23.4500         0         0           4        0   \n",
       "889       1   26      0  30.0000         1         1           1        1   \n",
       "890       3   32      0   7.7500         2         0           1        1   \n",
       "\n",
       "     CategoricalFare  Title  Sex_female  Sex_male  \n",
       "0                  0      3           0         1  \n",
       "1                  3      2           1         0  \n",
       "2                  1      4           1         0  \n",
       "3                  3      2           1         0  \n",
       "4                  1      3           0         1  \n",
       "..               ...    ...         ...       ...  \n",
       "886                1      4           0         1  \n",
       "887                2      4           1         0  \n",
       "888                2      4           1         0  \n",
       "889                2      3           0         1  \n",
       "890                0      3           0         1  \n",
       "\n",
       "[891 rows x 12 columns]"
      ]
     },
     "execution_count": 46,
     "metadata": {},
     "output_type": "execute_result"
    }
   ],
   "source": [
    "X"
   ]
  },
  {
   "cell_type": "code",
   "execution_count": 47,
   "id": "7c82625c",
   "metadata": {},
   "outputs": [],
   "source": [
    "seed = 2\n",
    "rf = RandomForestClassifier(random_state=seed)\n",
    "et = ExtraTreesClassifier(random_state=seed)\n",
    "ada = AdaBoostClassifier(random_state=seed)\n",
    "gb = GradientBoostingClassifier(random_state=seed)\n"
   ]
  },
  {
   "cell_type": "code",
   "execution_count": 48,
   "id": "9fa12763",
   "metadata": {},
   "outputs": [],
   "source": [
    "models = [rf, et, ada, gb]\n",
    "model_names = ['RandomForest', 'ExtraTrees', 'Ada', 'GradientBoost']\n",
    "[ m.fit(X, y) for m in models ]\n",
    "feature_importances = { name: m.feature_importances_ for name, m in zip(model_names, models) }\n"
   ]
  },
  {
   "cell_type": "code",
   "execution_count": 49,
   "id": "ef400e99",
   "metadata": {},
   "outputs": [
    {
     "data": {
      "text/plain": [
       "{'RandomForest': array([0.06610249, 0.23657721, 0.02285855, 0.19072624, 0.03295432,\n",
       "        0.03970582, 0.05022957, 0.01237082, 0.0383038 , 0.08452015,\n",
       "        0.11107178, 0.11457926]),\n",
       " 'ExtraTrees': array([0.08115468, 0.23115703, 0.02381481, 0.16774244, 0.03400849,\n",
       "        0.04644347, 0.0439655 , 0.014658  , 0.04519224, 0.05757566,\n",
       "        0.13244895, 0.12183874]),\n",
       " 'Ada': array([0.02, 0.32, 0.02, 0.36, 0.02, 0.04, 0.12, 0.02, 0.  , 0.06, 0.  ,\n",
       "        0.02]),\n",
       " 'GradientBoost': array([0.12224988, 0.12703348, 0.00100879, 0.12565864, 0.02115111,\n",
       "        0.04310279, 0.06461189, 0.00357381, 0.00344459, 0.01487261,\n",
       "        0.20885343, 0.26443897])}"
      ]
     },
     "execution_count": 49,
     "metadata": {},
     "output_type": "execute_result"
    }
   ],
   "source": [
    "feature_importances"
   ]
  },
  {
   "cell_type": "code",
   "execution_count": 50,
   "id": "e2d90761",
   "metadata": {},
   "outputs": [],
   "source": [
    "feature_df = pd.DataFrame(feature_importances)\n",
    "\n"
   ]
  },
  {
   "cell_type": "code",
   "execution_count": 51,
   "id": "e83f77f4",
   "metadata": {
    "scrolled": true
   },
   "outputs": [
    {
     "data": {
      "text/html": [
       "<div>\n",
       "<style scoped>\n",
       "    .dataframe tbody tr th:only-of-type {\n",
       "        vertical-align: middle;\n",
       "    }\n",
       "\n",
       "    .dataframe tbody tr th {\n",
       "        vertical-align: top;\n",
       "    }\n",
       "\n",
       "    .dataframe thead th {\n",
       "        text-align: right;\n",
       "    }\n",
       "</style>\n",
       "<table border=\"1\" class=\"dataframe\">\n",
       "  <thead>\n",
       "    <tr style=\"text-align: right;\">\n",
       "      <th></th>\n",
       "      <th>RandomForest</th>\n",
       "      <th>ExtraTrees</th>\n",
       "      <th>Ada</th>\n",
       "      <th>GradientBoost</th>\n",
       "    </tr>\n",
       "  </thead>\n",
       "  <tbody>\n",
       "    <tr>\n",
       "      <th>0</th>\n",
       "      <td>0.066102</td>\n",
       "      <td>0.081155</td>\n",
       "      <td>0.02</td>\n",
       "      <td>0.122250</td>\n",
       "    </tr>\n",
       "    <tr>\n",
       "      <th>1</th>\n",
       "      <td>0.236577</td>\n",
       "      <td>0.231157</td>\n",
       "      <td>0.32</td>\n",
       "      <td>0.127033</td>\n",
       "    </tr>\n",
       "    <tr>\n",
       "      <th>2</th>\n",
       "      <td>0.022859</td>\n",
       "      <td>0.023815</td>\n",
       "      <td>0.02</td>\n",
       "      <td>0.001009</td>\n",
       "    </tr>\n",
       "    <tr>\n",
       "      <th>3</th>\n",
       "      <td>0.190726</td>\n",
       "      <td>0.167742</td>\n",
       "      <td>0.36</td>\n",
       "      <td>0.125659</td>\n",
       "    </tr>\n",
       "    <tr>\n",
       "      <th>4</th>\n",
       "      <td>0.032954</td>\n",
       "      <td>0.034008</td>\n",
       "      <td>0.02</td>\n",
       "      <td>0.021151</td>\n",
       "    </tr>\n",
       "    <tr>\n",
       "      <th>5</th>\n",
       "      <td>0.039706</td>\n",
       "      <td>0.046443</td>\n",
       "      <td>0.04</td>\n",
       "      <td>0.043103</td>\n",
       "    </tr>\n",
       "    <tr>\n",
       "      <th>6</th>\n",
       "      <td>0.050230</td>\n",
       "      <td>0.043965</td>\n",
       "      <td>0.12</td>\n",
       "      <td>0.064612</td>\n",
       "    </tr>\n",
       "    <tr>\n",
       "      <th>7</th>\n",
       "      <td>0.012371</td>\n",
       "      <td>0.014658</td>\n",
       "      <td>0.02</td>\n",
       "      <td>0.003574</td>\n",
       "    </tr>\n",
       "    <tr>\n",
       "      <th>8</th>\n",
       "      <td>0.038304</td>\n",
       "      <td>0.045192</td>\n",
       "      <td>0.00</td>\n",
       "      <td>0.003445</td>\n",
       "    </tr>\n",
       "    <tr>\n",
       "      <th>9</th>\n",
       "      <td>0.084520</td>\n",
       "      <td>0.057576</td>\n",
       "      <td>0.06</td>\n",
       "      <td>0.014873</td>\n",
       "    </tr>\n",
       "    <tr>\n",
       "      <th>10</th>\n",
       "      <td>0.111072</td>\n",
       "      <td>0.132449</td>\n",
       "      <td>0.00</td>\n",
       "      <td>0.208853</td>\n",
       "    </tr>\n",
       "    <tr>\n",
       "      <th>11</th>\n",
       "      <td>0.114579</td>\n",
       "      <td>0.121839</td>\n",
       "      <td>0.02</td>\n",
       "      <td>0.264439</td>\n",
       "    </tr>\n",
       "  </tbody>\n",
       "</table>\n",
       "</div>"
      ],
      "text/plain": [
       "    RandomForest  ExtraTrees   Ada  GradientBoost\n",
       "0       0.066102    0.081155  0.02       0.122250\n",
       "1       0.236577    0.231157  0.32       0.127033\n",
       "2       0.022859    0.023815  0.02       0.001009\n",
       "3       0.190726    0.167742  0.36       0.125659\n",
       "4       0.032954    0.034008  0.02       0.021151\n",
       "5       0.039706    0.046443  0.04       0.043103\n",
       "6       0.050230    0.043965  0.12       0.064612\n",
       "7       0.012371    0.014658  0.02       0.003574\n",
       "8       0.038304    0.045192  0.00       0.003445\n",
       "9       0.084520    0.057576  0.06       0.014873\n",
       "10      0.111072    0.132449  0.00       0.208853\n",
       "11      0.114579    0.121839  0.02       0.264439"
      ]
     },
     "execution_count": 51,
     "metadata": {},
     "output_type": "execute_result"
    }
   ],
   "source": [
    "feature_df"
   ]
  },
  {
   "cell_type": "code",
   "execution_count": 52,
   "id": "08579241",
   "metadata": {},
   "outputs": [
    {
     "data": {
      "text/plain": [
       "['Pclass',\n",
       " 'Age',\n",
       " 'Parch',\n",
       " 'Fare',\n",
       " 'Embarked',\n",
       " 'HasCabin',\n",
       " 'FamilySize',\n",
       " 'IsAlone',\n",
       " 'CategoricalFare',\n",
       " 'Title',\n",
       " 'Sex_female',\n",
       " 'Sex_male']"
      ]
     },
     "execution_count": 52,
     "metadata": {},
     "output_type": "execute_result"
    }
   ],
   "source": [
    "features"
   ]
  },
  {
   "cell_type": "code",
   "execution_count": 53,
   "id": "2d523148",
   "metadata": {},
   "outputs": [],
   "source": [
    "feature_df.insert(0, 'features', features)"
   ]
  },
  {
   "cell_type": "code",
   "execution_count": 54,
   "id": "cf457a2a",
   "metadata": {},
   "outputs": [
    {
     "name": "stderr",
     "output_type": "stream",
     "text": [
      "C:\\Users\\Dell\\AppData\\Local\\Temp/ipykernel_10940/1015519725.py:1: FutureWarning: Dropping of nuisance columns in DataFrame reductions (with 'numeric_only=None') is deprecated; in a future version this will raise TypeError.  Select only valid columns before calling the reduction.\n",
      "  feature_df['mean'] = feature_df.mean(axis=1)\n"
     ]
    },
    {
     "data": {
      "text/html": [
       "<div>\n",
       "<style scoped>\n",
       "    .dataframe tbody tr th:only-of-type {\n",
       "        vertical-align: middle;\n",
       "    }\n",
       "\n",
       "    .dataframe tbody tr th {\n",
       "        vertical-align: top;\n",
       "    }\n",
       "\n",
       "    .dataframe thead th {\n",
       "        text-align: right;\n",
       "    }\n",
       "</style>\n",
       "<table border=\"1\" class=\"dataframe\">\n",
       "  <thead>\n",
       "    <tr style=\"text-align: right;\">\n",
       "      <th></th>\n",
       "      <th>features</th>\n",
       "      <th>RandomForest</th>\n",
       "      <th>ExtraTrees</th>\n",
       "      <th>Ada</th>\n",
       "      <th>GradientBoost</th>\n",
       "      <th>mean</th>\n",
       "    </tr>\n",
       "  </thead>\n",
       "  <tbody>\n",
       "    <tr>\n",
       "      <th>0</th>\n",
       "      <td>Pclass</td>\n",
       "      <td>0.066102</td>\n",
       "      <td>0.081155</td>\n",
       "      <td>0.02</td>\n",
       "      <td>0.122250</td>\n",
       "      <td>0.072377</td>\n",
       "    </tr>\n",
       "    <tr>\n",
       "      <th>1</th>\n",
       "      <td>Age</td>\n",
       "      <td>0.236577</td>\n",
       "      <td>0.231157</td>\n",
       "      <td>0.32</td>\n",
       "      <td>0.127033</td>\n",
       "      <td>0.228692</td>\n",
       "    </tr>\n",
       "    <tr>\n",
       "      <th>2</th>\n",
       "      <td>Parch</td>\n",
       "      <td>0.022859</td>\n",
       "      <td>0.023815</td>\n",
       "      <td>0.02</td>\n",
       "      <td>0.001009</td>\n",
       "      <td>0.016921</td>\n",
       "    </tr>\n",
       "    <tr>\n",
       "      <th>3</th>\n",
       "      <td>Fare</td>\n",
       "      <td>0.190726</td>\n",
       "      <td>0.167742</td>\n",
       "      <td>0.36</td>\n",
       "      <td>0.125659</td>\n",
       "      <td>0.211032</td>\n",
       "    </tr>\n",
       "    <tr>\n",
       "      <th>4</th>\n",
       "      <td>Embarked</td>\n",
       "      <td>0.032954</td>\n",
       "      <td>0.034008</td>\n",
       "      <td>0.02</td>\n",
       "      <td>0.021151</td>\n",
       "      <td>0.027028</td>\n",
       "    </tr>\n",
       "    <tr>\n",
       "      <th>5</th>\n",
       "      <td>HasCabin</td>\n",
       "      <td>0.039706</td>\n",
       "      <td>0.046443</td>\n",
       "      <td>0.04</td>\n",
       "      <td>0.043103</td>\n",
       "      <td>0.042313</td>\n",
       "    </tr>\n",
       "    <tr>\n",
       "      <th>6</th>\n",
       "      <td>FamilySize</td>\n",
       "      <td>0.050230</td>\n",
       "      <td>0.043965</td>\n",
       "      <td>0.12</td>\n",
       "      <td>0.064612</td>\n",
       "      <td>0.069702</td>\n",
       "    </tr>\n",
       "    <tr>\n",
       "      <th>7</th>\n",
       "      <td>IsAlone</td>\n",
       "      <td>0.012371</td>\n",
       "      <td>0.014658</td>\n",
       "      <td>0.02</td>\n",
       "      <td>0.003574</td>\n",
       "      <td>0.012651</td>\n",
       "    </tr>\n",
       "    <tr>\n",
       "      <th>8</th>\n",
       "      <td>CategoricalFare</td>\n",
       "      <td>0.038304</td>\n",
       "      <td>0.045192</td>\n",
       "      <td>0.00</td>\n",
       "      <td>0.003445</td>\n",
       "      <td>0.021735</td>\n",
       "    </tr>\n",
       "    <tr>\n",
       "      <th>9</th>\n",
       "      <td>Title</td>\n",
       "      <td>0.084520</td>\n",
       "      <td>0.057576</td>\n",
       "      <td>0.06</td>\n",
       "      <td>0.014873</td>\n",
       "      <td>0.054242</td>\n",
       "    </tr>\n",
       "    <tr>\n",
       "      <th>10</th>\n",
       "      <td>Sex_female</td>\n",
       "      <td>0.111072</td>\n",
       "      <td>0.132449</td>\n",
       "      <td>0.00</td>\n",
       "      <td>0.208853</td>\n",
       "      <td>0.113094</td>\n",
       "    </tr>\n",
       "    <tr>\n",
       "      <th>11</th>\n",
       "      <td>Sex_male</td>\n",
       "      <td>0.114579</td>\n",
       "      <td>0.121839</td>\n",
       "      <td>0.02</td>\n",
       "      <td>0.264439</td>\n",
       "      <td>0.130214</td>\n",
       "    </tr>\n",
       "  </tbody>\n",
       "</table>\n",
       "</div>"
      ],
      "text/plain": [
       "           features  RandomForest  ExtraTrees   Ada  GradientBoost      mean\n",
       "0            Pclass      0.066102    0.081155  0.02       0.122250  0.072377\n",
       "1               Age      0.236577    0.231157  0.32       0.127033  0.228692\n",
       "2             Parch      0.022859    0.023815  0.02       0.001009  0.016921\n",
       "3              Fare      0.190726    0.167742  0.36       0.125659  0.211032\n",
       "4          Embarked      0.032954    0.034008  0.02       0.021151  0.027028\n",
       "5          HasCabin      0.039706    0.046443  0.04       0.043103  0.042313\n",
       "6        FamilySize      0.050230    0.043965  0.12       0.064612  0.069702\n",
       "7           IsAlone      0.012371    0.014658  0.02       0.003574  0.012651\n",
       "8   CategoricalFare      0.038304    0.045192  0.00       0.003445  0.021735\n",
       "9             Title      0.084520    0.057576  0.06       0.014873  0.054242\n",
       "10       Sex_female      0.111072    0.132449  0.00       0.208853  0.113094\n",
       "11         Sex_male      0.114579    0.121839  0.02       0.264439  0.130214"
      ]
     },
     "execution_count": 54,
     "metadata": {},
     "output_type": "execute_result"
    }
   ],
   "source": [
    "feature_df['mean'] = feature_df.mean(axis=1)\n",
    "feature_df\n"
   ]
  },
  {
   "cell_type": "code",
   "execution_count": 55,
   "id": "b1431b15",
   "metadata": {},
   "outputs": [],
   "source": [
    "from sklearn.model_selection import train_test_split\n",
    "X_train, X_test, y_train, y_test = train_test_split(X, y, test_size=0.2)\n"
   ]
  },
  {
   "cell_type": "code",
   "execution_count": 57,
   "id": "25156859",
   "metadata": {},
   "outputs": [
    {
     "data": {
      "text/plain": [
       "VotingClassifier(estimators=[('RandomForest',\n",
       "                              RandomForestClassifier(random_state=2)),\n",
       "                             ('ExtraTrees',\n",
       "                              ExtraTreesClassifier(random_state=2)),\n",
       "                             ('Ada', AdaBoostClassifier(random_state=2)),\n",
       "                             ('GradientBoost',\n",
       "                              GradientBoostingClassifier(random_state=2))])"
      ]
     },
     "execution_count": 57,
     "metadata": {},
     "output_type": "execute_result"
    }
   ],
   "source": [
    "from sklearn.ensemble import VotingClassifier\n",
    "vc = VotingClassifier(estimators=[(name, m) for name, m in zip(model_names, models)\n",
    "])\n",
    "vc.fit(X, y)"
   ]
  },
  {
   "cell_type": "code",
   "execution_count": 58,
   "id": "31bd3d70",
   "metadata": {},
   "outputs": [
    {
     "data": {
      "text/plain": [
       "array([0.79329609, 0.78651685, 0.85393258, 0.80337079, 0.86516854])"
      ]
     },
     "execution_count": 58,
     "metadata": {},
     "output_type": "execute_result"
    }
   ],
   "source": [
    "scores = cross_val_score(vc, X, y, cv=5, scoring='accuracy')\n",
    "scores"
   ]
  },
  {
   "cell_type": "code",
   "execution_count": 59,
   "id": "63e9fbf6",
   "metadata": {},
   "outputs": [
    {
     "data": {
      "text/plain": [
       "VotingClassifier(estimators=[('RandomForest',\n",
       "                              RandomForestClassifier(random_state=2)),\n",
       "                             ('ExtraTrees',\n",
       "                              ExtraTreesClassifier(random_state=2)),\n",
       "                             ('Ada', AdaBoostClassifier(random_state=2)),\n",
       "                             ('GradientBoost',\n",
       "                              GradientBoostingClassifier(random_state=2))])"
      ]
     },
     "execution_count": 59,
     "metadata": {},
     "output_type": "execute_result"
    }
   ],
   "source": [
    "vc.fit(X_train, y_train)\n"
   ]
  },
  {
   "cell_type": "code",
   "execution_count": 60,
   "id": "0dea27d8",
   "metadata": {},
   "outputs": [
    {
     "data": {
      "text/plain": [
       "80.44692737430168"
      ]
     },
     "execution_count": 60,
     "metadata": {},
     "output_type": "execute_result"
    }
   ],
   "source": [
    "pred = vc.predict(X_test)\n",
    "100. * (pred == y_test).mean()\n"
   ]
  },
  {
   "cell_type": "code",
   "execution_count": null,
   "id": "ffed14f9",
   "metadata": {},
   "outputs": [],
   "source": []
  },
  {
   "cell_type": "code",
   "execution_count": null,
   "id": "f85fca24",
   "metadata": {},
   "outputs": [],
   "source": []
  }
 ],
 "metadata": {
  "kernelspec": {
   "display_name": "Python 3 (ipykernel)",
   "language": "python",
   "name": "python3"
  },
  "language_info": {
   "codemirror_mode": {
    "name": "ipython",
    "version": 3
   },
   "file_extension": ".py",
   "mimetype": "text/x-python",
   "name": "python",
   "nbconvert_exporter": "python",
   "pygments_lexer": "ipython3",
   "version": "3.9.7"
  }
 },
 "nbformat": 4,
 "nbformat_minor": 5
}
